{
 "cells": [
  {
   "cell_type": "markdown",
   "metadata": {},
   "source": [
    "# Example usage of SeisSrcMoment to calculate $M_W$ in the frequency domain, using a linearised $M_0$ method"
   ]
  },
  {
   "cell_type": "markdown",
   "metadata": {},
   "source": [
    "This example is for a volcano-tectonic earthquake at Uturuncu, Bolivia. The moment magnitude, $M_W$, is calculated in the frequency domain, i.e. the long period spectral level is calculated by fitting a Brune model, as detailed in Stork et al (2014). However, here we use a linearised Brune model to calculate a number of the parameters in the Brune model with enhanced numerical stability over the non-linear Brune fit method. This earthquake's moment tensor is analysed in Alvizuri and Tape (2016), with $M_W$ = 2.80 found by full waveform moment tensor inversion."
   ]
  },
  {
   "cell_type": "markdown",
   "metadata": {},
   "source": [
    "## 1. Specify parameters to use:"
   ]
  },
  {
   "cell_type": "code",
   "execution_count": 1,
   "metadata": {},
   "outputs": [],
   "source": [
    "import numpy as np\n",
    "import os, sys \n",
    "%load_ext autoreload\n",
    "%autoreload 2\n",
    "from SeisSrcMoment import moment_linear_reg\n",
    "from NonLinLocPy import read_nonlinloc"
   ]
  },
  {
   "cell_type": "code",
   "execution_count": 2,
   "metadata": {},
   "outputs": [],
   "source": [
    "# Specify variables:\n",
    "inventory_fname = \"data/instrument_gain_data/IRISDMC-Plutons_dataless.dataless\"  # The inventory fname, pointing to the dataless file for the network (for full instrument frequency response removal)\n",
    "# mseed_filename = \"data/mseed_data/20100516063454720000.m\" # Note: One can pass the script an obspy stream instead if one wishes.\n",
    "# NLLoc_event_hyp_filename = \"data/NLLoc_data/loc.Tom_RunNLLoc000.20100516.063457.grid0.loc.hyp\"\n",
    "stations_not_to_process = []\n",
    "window_before_after = [0.1, 0.6] # The time before and after the phase pick to use for calculating the magnitude within\n",
    "filt_freqs = [0.5, 49.0] # Filter frequencies to apply (important if not removing long period spectral noise)\n",
    "MT_six_tensors = [] # If this is not specified, assumes average DC component in P (or S) from Stork et al (2014).\n",
    "density = 2750. #2000. # Density of medium, in kg/m3\n",
    "Vp = 5000. # P-wave velocity in m/s\n",
    "# Note that Q not required as the program calculates Q when fitting the source model.\n",
    "verbosity_level = 0 # Verbosity level (1 for moment only) (2 for major parameters) (3 for plotting of traces)\n",
    "plot_switch = True\n",
    "remove_noise_spectrum = False # If True, removes noise using spectrum taken from window before trace. Not thoroughly tested yet, but can get around by applying a high pass filter above anyway.\n",
    "invert_for_geom_spreading = False\n",
    "freq_inv_intervals = None #np.arange(0.5, 40, 4.0) #None # Frequency intervals to sample the displacement spectra for the inversion.\n"
   ]
  },
  {
   "cell_type": "code",
   "execution_count": null,
   "metadata": {},
   "outputs": [],
   "source": []
  },
  {
   "cell_type": "markdown",
   "metadata": {},
   "source": [
    "One also needs to set the inversion method option for the moment parameters to invert for. The options are as follows:\n",
    "\n",
    "![title](inversion_options_diagram.png)\n"
   ]
  },
  {
   "cell_type": "code",
   "execution_count": 3,
   "metadata": {},
   "outputs": [],
   "source": [
    "# Set inversion method option:\n",
    "inv_option = \"method-1\" # Options are: \"method-1\"; \"method-2\"; \"method-3\"; \"method-4\", as above."
   ]
  },
  {
   "cell_type": "code",
   "execution_count": 4,
   "metadata": {},
   "outputs": [],
   "source": [
    "# And simulate for multiple events (TESTING!!!):\n",
    "mseed_fnames_tmp = np.loadtxt(\"data/mseed_fnames_list.txt\", dtype=str)\n",
    "nlloc_fnames_tmp = np.loadtxt(\"data/nlloc_fnames_list.txt\", dtype=str)\n",
    "mseed_filenames = []\n",
    "NLLoc_event_hyp_filenames = []\n",
    "for i in range(len(mseed_fnames_tmp)):\n",
    "    mseed_filenames.append(os.path.join(\"data/mseed_data\", mseed_fnames_tmp[i]))\n",
    "    NLLoc_event_hyp_filenames.append(os.path.join(\"data/NLLoc_data\", nlloc_fnames_tmp[i]))\n",
    "\n",
    "mseed_filenames = mseed_filenames[0:10]\n",
    "NLLoc_event_hyp_filenames = NLLoc_event_hyp_filenames[0:10]\n"
   ]
  },
  {
   "cell_type": "markdown",
   "metadata": {},
   "source": [
    "## Run moment calculation:"
   ]
  },
  {
   "cell_type": "code",
   "execution_count": 33,
   "metadata": {
    "scrolled": false
   },
   "outputs": [
    {
     "name": "stderr",
     "output_type": "stream",
     "text": [
      "/Users/eart0504/opt/anaconda3/lib/python3.7/site-packages/obspy/io/xseed/fields.py:377: UserWarning: Date is required.\n",
      "  warnings.warn('Date is required.', UserWarning)\n"
     ]
    },
    {
     "name": "stdout",
     "output_type": "stream",
     "text": [
      "Skipping station as spectra of length less than usual.\n"
     ]
    },
    {
     "name": "stderr",
     "output_type": "stream",
     "text": [
      "/Users/eart0504/opt/anaconda3/lib/python3.7/site-packages/obspy/io/xseed/fields.py:377: UserWarning: Date is required.\n",
      "  warnings.warn('Date is required.', UserWarning)\n",
      "/Users/eart0504/opt/anaconda3/lib/python3.7/site-packages/obspy/io/xseed/fields.py:377: UserWarning: Date is required.\n",
      "  warnings.warn('Date is required.', UserWarning)\n",
      "/Users/eart0504/opt/anaconda3/lib/python3.7/site-packages/obspy/io/xseed/fields.py:377: UserWarning: Date is required.\n",
      "  warnings.warn('Date is required.', UserWarning)\n",
      "/Users/eart0504/opt/anaconda3/lib/python3.7/site-packages/obspy/io/xseed/fields.py:377: UserWarning: Date is required.\n",
      "  warnings.warn('Date is required.', UserWarning)\n",
      "/Users/eart0504/opt/anaconda3/lib/python3.7/site-packages/obspy/io/xseed/fields.py:377: UserWarning: Date is required.\n",
      "  warnings.warn('Date is required.', UserWarning)\n",
      "/Users/eart0504/opt/anaconda3/lib/python3.7/site-packages/obspy/io/xseed/fields.py:377: UserWarning: Date is required.\n",
      "  warnings.warn('Date is required.', UserWarning)\n",
      "/Users/eart0504/opt/anaconda3/lib/python3.7/site-packages/obspy/io/xseed/fields.py:377: UserWarning: Date is required.\n",
      "  warnings.warn('Date is required.', UserWarning)\n",
      "/Users/eart0504/opt/anaconda3/lib/python3.7/site-packages/obspy/io/xseed/fields.py:377: UserWarning: Date is required.\n",
      "  warnings.warn('Date is required.', UserWarning)\n",
      "/Users/eart0504/opt/anaconda3/lib/python3.7/site-packages/obspy/io/xseed/fields.py:377: UserWarning: Date is required.\n",
      "  warnings.warn('Date is required.', UserWarning)\n"
     ]
    }
   ],
   "source": [
    "# Find seismic moment release:\n",
    "event_obs_dicts, linear_moment_inv_outputs = moment_linear_reg.calc_moment_via_linear_reg(mseed_filenames, NLLoc_event_hyp_filenames, density, Vp, inventory_fname=inventory_fname, window_before_after=window_before_after, filt_freqs=filt_freqs, stations_not_to_process=stations_not_to_process, MT_six_tensors=MT_six_tensors, verbosity_level=verbosity_level, invert_for_geom_spreading=invert_for_geom_spreading, freq_inv_intervals=freq_inv_intervals, inv_option=inv_option, plot_switch=plot_switch)\n",
    "# print(\"Seismic moment release (Nm):\", av_M_0)"
   ]
  },
  {
   "cell_type": "code",
   "execution_count": 34,
   "metadata": {},
   "outputs": [
    {
     "name": "stdout",
     "output_type": "stream",
     "text": [
      "Moment magnitude, Mw: 1.64379522299 ( Q: 434.927384485 , fc: 4.25931402845 )\n",
      "Moment magnitude, Mw: 1.81828927815 ( Q: 2306.06148978 , fc: 3.4226562678 )\n",
      "Moment magnitude, Mw: 1.70318175879 ( Q: 559.55811752 , fc: 5.30075921319 )\n",
      "Moment magnitude, Mw: 1.68001697141 ( Q: 879.233414619 , fc: 4.12280316591 )\n",
      "Moment magnitude, Mw: 1.87425381684 ( Q: 1145.93252476 , fc: 3.85655670325 )\n",
      "Moment magnitude, Mw: 0.877723202139 ( Q: 616.563896502 , fc: 14.378288045 )\n",
      "Moment magnitude, Mw: 2.14466766326 ( Q: 1308.80615883 , fc: 5.39912538332 )\n",
      "Moment magnitude, Mw: 1.53459833739 ( Q: 2578.13111946 , fc: 5.3021335026 )\n",
      "Moment magnitude, Mw: 1.82009342212 ( Q: 2579.73128891 , fc: 3.95969483575 )\n",
      "Moment magnitude, Mw: 1.85430287606 ( Q: 2248.85295494 , fc: 4.00034433514 )\n"
     ]
    }
   ],
   "source": [
    "# Look over events, calculating magnitudes:\n",
    "for NLLoc_event_hyp_filename in NLLoc_event_hyp_filenames:\n",
    "    # And find corresponding moment magnitude, M_w (Hanks and Kanamori 1979):\n",
    "    event_obs_dict = event_obs_dicts[NLLoc_event_hyp_filename]\n",
    "    M_ws = []\n",
    "    Qs = []\n",
    "    fcs = []\n",
    "    for station in list(event_obs_dict.keys()):\n",
    "        M_0 = event_obs_dict[station]['M_0']\n",
    "        if M_0 > 0: # filter any events that didn't solve for\n",
    "            M_ws.append((2./3.)*np.log10(M_0) - 6.0)\n",
    "            Qs.append(event_obs_dict[station]['Q'])\n",
    "            fcs.append(event_obs_dict[station]['f_c'])\n",
    "    if len(M_ws) > 0:\n",
    "        M_w = np.average(np.array(M_ws))\n",
    "        Q = np.average(np.array(Qs))\n",
    "        fc = np.average(np.array(fcs))\n",
    "        print(\"Moment magnitude, Mw:\", M_w, \"( Q:\", Q, \", fc:\", fc, \")\")"
   ]
  },
  {
   "cell_type": "code",
   "execution_count": null,
   "metadata": {},
   "outputs": [],
   "source": []
  }
 ],
 "metadata": {
  "kernelspec": {
   "display_name": "Python 3",
   "language": "python",
   "name": "python3"
  },
  "language_info": {
   "codemirror_mode": {
    "name": "ipython",
    "version": 3
   },
   "file_extension": ".py",
   "mimetype": "text/x-python",
   "name": "python",
   "nbconvert_exporter": "python",
   "pygments_lexer": "ipython3",
   "version": "3.7.6"
  }
 },
 "nbformat": 4,
 "nbformat_minor": 2
}
