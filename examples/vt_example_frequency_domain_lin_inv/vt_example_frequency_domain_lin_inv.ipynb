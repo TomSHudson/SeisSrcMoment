{
 "cells": [
  {
   "cell_type": "markdown",
   "metadata": {},
   "source": [
    "# Example usage of SeisSrcMoment to calculate $M_W$ in the frequency domain, using a linearised $M_0$ method"
   ]
  },
  {
   "cell_type": "markdown",
   "metadata": {},
   "source": [
    "This example is for a volcano-tectonic earthquake at Uturuncu, Bolivia. The moment magnitude, $M_W$, is calculated in the frequency domain, i.e. the long period spectral level is calculated by fitting a Brune model, as detailed in Stork et al (2014). However, here we use a linearised Brune model to calculate a number of the parameters in the Brune model with enhanced numerical stability over the non-linear Brune fit method. This earthquake's moment tensor is analysed in Alvizuri and Tape (2016), with $M_W$ = 2.80 found by full waveform moment tensor inversion."
   ]
  },
  {
   "cell_type": "markdown",
   "metadata": {},
   "source": [
    "## 1. Specify parameters to use:"
   ]
  },
  {
   "cell_type": "code",
   "execution_count": 7,
   "metadata": {},
   "outputs": [
    {
     "name": "stdout",
     "output_type": "stream",
     "text": [
      "The autoreload extension is already loaded. To reload it, use:\n",
      "  %reload_ext autoreload\n"
     ]
    }
   ],
   "source": [
    "import numpy as np\n",
    "import os, sys \n",
    "%load_ext autoreload\n",
    "%autoreload 2\n",
    "from SeisSrcMoment import moment_linear_reg\n",
    "from NonLinLocPy import read_nonlinloc"
   ]
  },
  {
   "cell_type": "code",
   "execution_count": 8,
   "metadata": {},
   "outputs": [],
   "source": [
    "# Specify variables:\n",
    "inventory_fname = \"data/instrument_gain_data/IRISDMC-Plutons_dataless.dataless\"  # The inventory fname, pointing to the dataless file for the network (for full instrument frequency response removal)\n",
    "# mseed_filename = \"data/mseed_data/20100516063454720000.m\" # Note: One can pass the script an obspy stream instead if one wishes.\n",
    "# NLLoc_event_hyp_filename = \"data/NLLoc_data/loc.Tom_RunNLLoc000.20100516.063457.grid0.loc.hyp\"\n",
    "stations_not_to_process = []\n",
    "window_before_after = [0.1, 0.6] # The time before and after the phase pick to use for calculating the magnitude within\n",
    "filt_freqs = [0.5, 49.0] # Filter frequencies to apply (important if not removing long period spectral noise)\n",
    "MT_six_tensors = [] # If this is not specified, assumes average DC component in P (or S) from Stork et al (2014).\n",
    "density = 2750. #2000. # Density of medium, in kg/m3\n",
    "Vp = 5000. # P-wave velocity in m/s\n",
    "# Note that Q not required as the program calculates Q when fitting the source model.\n",
    "verbosity_level = 0 # Verbosity level (1 for moment only) (2 for major parameters) (3 for plotting of traces)\n",
    "plot_switch = True\n",
    "remove_noise_spectrum = False # If True, removes noise using spectrum taken from window before trace. Not thoroughly tested yet, but can get around by applying a high pass filter above anyway.\n",
    "invert_for_geom_spreading = False\n",
    "freq_inv_intervals = None #np.arange(0.5, 40, 4.0) #None # Frequency intervals to sample the displacement spectra for the inversion.\n"
   ]
  },
  {
   "cell_type": "code",
   "execution_count": null,
   "metadata": {},
   "outputs": [],
   "source": []
  },
  {
   "cell_type": "markdown",
   "metadata": {},
   "source": [
    "One also needs to set the inversion method option for the moment parameters to invert for. The options are as follows:\n",
    "\n",
    "![title](inversion_options_diagram.png)\n"
   ]
  },
  {
   "cell_type": "code",
   "execution_count": 9,
   "metadata": {},
   "outputs": [],
   "source": [
    "# Set inversion method option:\n",
    "inv_option = \"method-3\" # Options are: \"method-1\"; \"method-2\"; \"method-3\"; \"method-4\", as above."
   ]
  },
  {
   "cell_type": "code",
   "execution_count": 10,
   "metadata": {},
   "outputs": [],
   "source": [
    "# And simulate for multiple events (TESTING!!!):\n",
    "mseed_fnames_tmp = np.loadtxt(\"data/mseed_fnames_list.txt\", dtype=str)\n",
    "nlloc_fnames_tmp = np.loadtxt(\"data/nlloc_fnames_list.txt\", dtype=str)\n",
    "mseed_filenames = []\n",
    "NLLoc_event_hyp_filenames = []\n",
    "for i in range(len(mseed_fnames_tmp)):\n",
    "    mseed_filenames.append(os.path.join(\"data/mseed_data\", mseed_fnames_tmp[i]))\n",
    "    NLLoc_event_hyp_filenames.append(os.path.join(\"data/NLLoc_data\", nlloc_fnames_tmp[i]))\n"
   ]
  },
  {
   "cell_type": "markdown",
   "metadata": {},
   "source": [
    "## Run moment calculation:"
   ]
  },
  {
   "cell_type": "code",
   "execution_count": 16,
   "metadata": {
    "scrolled": false
   },
   "outputs": [
    {
     "name": "stdout",
     "output_type": "stream",
     "text": [
      "Skipping station as spectra of length less than usual.\n",
      "Skipping station as spectra of length less than usual.\n",
      "Insufficient observations for spectral ratios, therefore skipping event data/NLLoc_data/loc.Tom_RunNLLoc000.20110619.211536.grid0.loc.hyp\n",
      "Skipping station as spectra of length less than usual.\n",
      "Skipping station pair 0 - 10 as doesn't exist for current event\n",
      "Skipping station pair 1 - 10 as doesn't exist for current event\n",
      "Skipping station pair 2 - 10 as doesn't exist for current event\n",
      "Skipping station pair 3 - 10 as doesn't exist for current event\n",
      "Skipping station pair 4 - 10 as doesn't exist for current event\n",
      "Skipping station pair 5 - 10 as doesn't exist for current event\n",
      "Skipping station pair 6 - 10 as doesn't exist for current event\n",
      "Skipping station pair 7 - 10 as doesn't exist for current event\n",
      "Skipping station pair 8 - 10 as doesn't exist for current event\n",
      "Skipping station pair 9 - 10 as doesn't exist for current event\n",
      "Skipping station pair 10 - 11 as doesn't exist for current event\n",
      "Skipping station pair 10 - 12 as doesn't exist for current event\n",
      "Skipping station pair 10 - 13 as doesn't exist for current event\n",
      "Skipping station pair 0 - 8 as doesn't exist for current event\n",
      "Skipping station pair 1 - 8 as doesn't exist for current event\n",
      "Skipping station pair 2 - 8 as doesn't exist for current event\n",
      "Skipping station pair 3 - 8 as doesn't exist for current event\n",
      "Skipping station pair 4 - 8 as doesn't exist for current event\n",
      "Skipping station pair 5 - 8 as doesn't exist for current event\n",
      "Skipping station pair 6 - 8 as doesn't exist for current event\n",
      "Skipping station pair 7 - 8 as doesn't exist for current event\n",
      "Skipping station pair 8 - 9 as doesn't exist for current event\n",
      "Skipping station pair 8 - 10 as doesn't exist for current event\n",
      "Skipping station pair 8 - 11 as doesn't exist for current event\n",
      "Skipping station pair 8 - 12 as doesn't exist for current event\n",
      "{'data/NLLoc_data/loc.Tom_RunNLLoc000.20110610.173450.grid0.loc.hyp': {'stations': ['PLCM', 'PLSS', 'PLMN', 'PL07', 'PLDK', 'PLLA', 'PLRR', 'PLJR', 'PLAR', 'PLWB', 'PLCO', 'PLTP', 'PLCL', 'PL03'], 'Qs': array([ 32.7518177 ,  42.53234381,  -2.4122046 ,  -0.9058783 ,\n",
      "               -inf, -12.59235443,  -1.85886107,  -2.42439719,\n",
      "        -4.30606547,  -1.10806958,   3.45964817,   6.48126623,\n",
      "        10.06388872, -30.75708471]), 'Rs': array([ -2408.46824478,   4240.41262759,  -5337.07182499,  43067.38963439,\n",
      "         1477.50993464,   5434.69671564,  45758.10437277,   -854.68933617,\n",
      "         9625.68037561,   6416.34479059,  -7779.80287747,  -3606.30791613,\n",
      "        -2350.17168032,   2180.16123164])}, 'data/NLLoc_data/loc.Tom_RunNLLoc000.20110611.093828.grid0.loc.hyp': {'stations': ['PLAR', 'PLLL', 'PLSE', 'PLWB', 'PLBR', 'PLCO', 'PLLA', 'PLDK', 'PLJR', 'PLTP', 'PLCL'], 'Qs': array([  6.48126623,  10.06388872, -30.75708471,  -1.0746696 ,\n",
      "         1.95638606,  -1.85899707,  13.29437595, -10.60954625,\n",
      "         1.46597589,          inf,   2.82775573]), 'Rs': array([ -3606.30791613,  -2350.17168032,   2180.16123164,  -1459.88119444,\n",
      "         3465.56294563, -32427.72412811, -11194.26307483, -21942.59887361,\n",
      "        -1751.43518973,   9730.99225   ,    319.8459878 ])}, 'data/NLLoc_data/loc.Tom_RunNLLoc000.20110611.134416.grid0.loc.hyp': {'stations': ['PLDK', 'PLMN', 'PLMK', 'PLRR', 'PLJR', 'PLBR', 'PL07', 'PLWB', 'PLLL', 'PLLA', 'PLSE', 'PLAN', 'PLTP', 'PLLC', 'PLCL'], 'Qs': array([ inf,  inf,  inf,  inf,  inf,  inf,  inf,  inf,  inf,  inf,  inf,\n",
      "        inf,  inf,  inf,  inf]), 'Rs': array([ inf,  inf,  inf,  inf,  inf,  inf,  inf,  inf,  inf,  inf,  inf,\n",
      "        inf,  inf,  inf,  inf])}, 'data/NLLoc_data/loc.Tom_RunNLLoc000.20110611.203007.grid0.loc.hyp': {'stations': ['PLCM', 'PLMN', 'PLLL', 'PL07', 'PLDK', 'PLRR', 'PLAR', 'PLWB', 'PLTP'], 'Qs': array([ inf,  inf,  inf,  inf,  inf,  inf,  inf,  inf,  inf]), 'Rs': array([ inf,  inf,  inf,  inf,  inf,  inf,  inf,  inf,  inf])}, 'data/NLLoc_data/loc.Tom_RunNLLoc000.20110611.213106.grid0.loc.hyp': {'stations': ['PLBR', 'PLSS', 'PLLL', 'PLCM', 'PLLA', 'PLCO', 'PL07', 'PLMN', 'PLDK', 'PLRR', 'PLWB', 'PLCL', 'PLTP'], 'Qs': array([ inf,  inf,  inf,  inf,  inf,  inf,  inf,  inf,  inf,  inf,  inf,\n",
      "        inf,  inf]), 'Rs': array([ inf,  inf,  inf,  inf,  inf,  inf,  inf,  inf,  inf,  inf,  inf,\n",
      "        inf,  inf])}, 'data/NLLoc_data/loc.Tom_RunNLLoc000.20110612.051824.grid0.loc.hyp': {'stations': ['PLCM', 'PLLL', 'PL07', 'PLMN', 'PLDK', 'PLWB'], 'Qs': array([ inf,  inf,  inf,  inf,  inf,  inf]), 'Rs': array([ inf,  inf,  inf,  inf,  inf,  inf])}, 'data/NLLoc_data/loc.Tom_RunNLLoc000.20110612.232535.grid0.loc.hyp': {'stations': ['PLJR', 'PLLA', 'PLCO', 'PLCM', 'PLBR', 'PLMN', 'PLSE', 'PLSS', 'PLLL', 'PLDK', 'PL07', 'PLRR', 'PLAR', 'PLWB', 'PLLC', 'PL03', 'PLSQ', 'PLCL', 'PLAN', 'PLSP', 'PLTP'], 'Qs': array([ inf,  inf,  inf,  inf,  inf,  inf,  inf,  inf,  inf,  inf,  inf,\n",
      "        inf,  inf,  inf,  inf,  inf,  inf,  inf,  inf,  inf,  inf]), 'Rs': array([ inf,  inf,  inf,  inf,  inf,  inf,  inf,  inf,  inf,  inf,  inf,\n",
      "        inf,  inf,  inf,  inf,  inf,  inf,  inf,  inf,  inf,  inf])}, 'data/NLLoc_data/loc.Tom_RunNLLoc000.20110613.193614.grid0.loc.hyp': {'stations': ['PLWB', 'PLAR', 'PLRR', 'PL07', 'PLLL', 'PLMK', 'PLDK', 'PLSS', 'PLMN', 'PLBR', 'PLTP', 'PL03', 'PLCL'], 'Qs': array([ inf,  inf,  inf,  inf,  inf,  inf,  inf,  inf,  inf,  inf,  inf,\n",
      "        inf,  inf]), 'Rs': array([ inf,  inf,  inf,  inf,  inf,  inf,  inf,  inf,  inf,  inf,  inf,\n",
      "        inf,  inf])}, 'data/NLLoc_data/loc.Tom_RunNLLoc000.20110613.203435.grid0.loc.hyp': {'stations': ['PLJR', 'PLSM', 'PLMN', 'PLCO', 'PLMK', 'PLLL', 'PLDK', 'PL07', 'PLRR', 'PLTP', 'PLCL', 'PL03'], 'Qs': array([ inf,  inf,  inf,  inf,  inf,  inf,  inf,  inf,  inf,  inf,  inf,\n",
      "        inf]), 'Rs': array([ inf,  inf,  inf,  inf,  inf,  inf,  inf,  inf,  inf,  inf,  inf,\n",
      "        inf])}, 'data/NLLoc_data/loc.Tom_RunNLLoc000.20110614.042345.grid0.loc.hyp': {'stations': ['PLCO', 'PLLA', 'PLSE', 'PLBR', 'PLLL', 'PLJR', 'PLMN', 'PL07', 'PLRR', 'PLWB', 'PLCL', 'PLTP', 'PL03'], 'Qs': array([ inf,  inf,  inf,  inf,  inf,  inf,  inf,  inf,  inf,  inf,  inf,\n",
      "        inf,  inf]), 'Rs': array([ inf,  inf,  inf,  inf,  inf,  inf,  inf,  inf,  inf,  inf,  inf,\n",
      "        inf,  inf])}, 'data/NLLoc_data/loc.Tom_RunNLLoc000.20110614.045755.grid0.loc.hyp': {'stations': ['PLMN', 'PLDK', 'PLJR', 'PLQU', 'PLBR', 'PLRR', 'PLLA', 'PL07', 'PLLL', 'PLWB', 'PLSE', 'PLAR', 'PLLC', 'PL03', 'PLTP', 'PLCL'], 'Qs': array([ inf,  inf,  inf,  inf,  inf,  inf,  inf,  inf,  inf,  inf,  inf,\n",
      "        inf,  inf,  inf,  inf,  inf]), 'Rs': array([ inf,  inf,  inf,  inf,  inf,  inf,  inf,  inf,  inf,  inf,  inf,\n",
      "        inf,  inf,  inf,  inf,  inf])}, 'data/NLLoc_data/loc.Tom_RunNLLoc000.20110614.061043.grid0.loc.hyp': {'stations': ['PLJR', 'PLQU', 'PLLA', 'PLBR', 'PLMN', 'PLSE', 'PLDK', 'PLLL', 'PL07', 'PLRR', 'PLAR', 'PL03', 'PLCL', 'PLLC', 'PLTP'], 'Qs': array([ inf,  inf,  inf,  inf,  inf,  inf,  inf,  inf,  inf,  inf,  inf,\n",
      "        inf,  inf,  inf,  inf]), 'Rs': array([ inf,  inf,  inf,  inf,  inf,  inf,  inf,  inf,  inf,  inf,  inf,\n",
      "        inf,  inf,  inf,  inf])}, 'data/NLLoc_data/loc.Tom_RunNLLoc000.20110614.111816.grid0.loc.hyp': {'stations': ['PLJR', 'PLQU', 'PLLA', 'PLMN', 'PLBR', 'PLSS', 'PLCO', 'PLDK', 'PLLL', 'PL07', 'PLRR', 'PLAR', 'PLCL', 'PLTP', 'PL03', 'PLLC'], 'Qs': array([ inf,  inf,  inf,  inf,  inf,  inf,  inf,  inf,  inf,  inf,  inf,\n",
      "        inf,  inf,  inf,  inf,  inf]), 'Rs': array([ inf,  inf,  inf,  inf,  inf,  inf,  inf,  inf,  inf,  inf,  inf,\n",
      "        inf,  inf,  inf,  inf,  inf])}, 'data/NLLoc_data/loc.Tom_RunNLLoc000.20110614.120944.grid0.loc.hyp': {'stations': ['PLJR', 'PLLA', 'PLMN', 'PLBR', 'PLMK', 'PLSE', 'PLDK', 'PLLL', 'PLRR', 'PLAR', 'PLWB', 'PLCL', 'PL03', 'PLLC', 'PLTP'], 'Qs': array([ inf,  inf,  inf,  inf,  inf,  inf,  inf,  inf,  inf,  inf,  inf,\n",
      "        inf,  inf,  inf,  inf]), 'Rs': array([ inf,  inf,  inf,  inf,  inf,  inf,  inf,  inf,  inf,  inf,  inf,\n",
      "        inf,  inf,  inf,  inf])}, 'data/NLLoc_data/loc.Tom_RunNLLoc000.20110614.152706.grid0.loc.hyp': {'stations': ['PLQU', 'PLLA', 'PLJR', 'PLCO', 'PLBR', 'PLCM', 'PLSS', 'PLMN', 'PLLL', 'PLMK', 'PL07', 'PLDK', 'PLAR', 'PLRR', 'PLWB', 'PLTP', 'PLCL', 'PL03', 'PLLC'], 'Qs': array([ inf,  inf,  inf,  inf,  inf,  inf,  inf,  inf,  inf,  inf,  inf,\n",
      "        inf,  inf,  inf,  inf,  inf,  inf,  inf,  inf]), 'Rs': array([ inf,  inf,  inf,  inf,  inf,  inf,  inf,  inf,  inf,  inf,  inf,\n",
      "        inf,  inf,  inf,  inf,  inf,  inf,  inf,  inf])}, 'data/NLLoc_data/loc.Tom_RunNLLoc000.20110615.140159.grid0.loc.hyp': {'stations': ['PLLA', 'PLJR', 'PLBR', 'PLSE', 'PLCM', 'PLSS', 'PLMN', 'PLMK', 'PLDK', 'PLRR', 'PLWB', 'PLTP', 'PLLC', 'PLSP', 'PLCL', 'PL03', 'PLSQ'], 'Qs': array([ inf,  inf,  inf,  inf,  inf,  inf,  inf,  inf,  inf,  inf,  inf,\n",
      "        inf,  inf,  inf,  inf,  inf,  inf]), 'Rs': array([ inf,  inf,  inf,  inf,  inf,  inf,  inf,  inf,  inf,  inf,  inf,\n",
      "        inf,  inf,  inf,  inf,  inf,  inf])}, 'data/NLLoc_data/loc.Tom_RunNLLoc000.20110615.193337.grid0.loc.hyp': {'stations': ['PLJR', 'PLMN', 'PLBR', 'PLMK', 'PLSE', 'PLCO', 'PLRR', 'PLWB', 'PLAR', 'PLCL', 'PLSQ', 'PLTP', 'PL03', 'PLAN'], 'Qs': array([ inf,  inf,  inf,  inf,  inf,  inf,  inf,  inf,  inf,  inf,  inf,\n",
      "        inf,  inf,  inf]), 'Rs': array([ inf,  inf,  inf,  inf,  inf,  inf,  inf,  inf,  inf,  inf,  inf,\n",
      "        inf,  inf,  inf])}, 'data/NLLoc_data/loc.Tom_RunNLLoc000.20110615.223547.grid0.loc.hyp': {'stations': ['PLMK', 'PLSS', 'PLMN', 'PLBR', 'PLLL', 'PLDK', 'PLJR'], 'Qs': array([ inf,  inf,  inf,  inf,  inf,  inf,  inf]), 'Rs': array([ inf,  inf,  inf,  inf,  inf,  inf,  inf])}, 'data/NLLoc_data/loc.Tom_RunNLLoc000.20110615.233043.grid0.loc.hyp': {'stations': ['PLCM', 'PLSS', 'PLMN', 'PLBR', 'PLLL', 'PLDK', 'PLSE', 'PLRR', 'PLAR', 'PLWB', 'PLSP'], 'Qs': array([ inf,  inf,  inf,  inf,  inf,  inf,  inf,  inf,  inf,  inf,  inf]), 'Rs': array([ inf,  inf,  inf,  inf,  inf,  inf,  inf,  inf,  inf,  inf,  inf])}, 'data/NLLoc_data/loc.Tom_RunNLLoc000.20110616.092554.grid0.loc.hyp': {'stations': ['PLAR', 'PLLL', 'PL07', 'PLRR', 'PLAN', 'PLTP'], 'Qs': array([ inf,  inf,  inf,  inf,  inf,  inf]), 'Rs': array([ inf,  inf,  inf,  inf,  inf,  inf])}, 'data/NLLoc_data/loc.Tom_RunNLLoc000.20110616.142316.grid0.loc.hyp': {'stations': ['PLCM', 'PLSM', 'PLQU', 'PLCO', 'PLJR', 'PLCL', 'PLLC', 'PL03', 'PLAN'], 'Qs': array([ inf,  inf,  inf,  inf,  inf,  inf,  inf,  inf,  inf]), 'Rs': array([ inf,  inf,  inf,  inf,  inf,  inf,  inf,  inf,  inf])}, 'data/NLLoc_data/loc.Tom_RunNLLoc000.20110617.054039.grid0.loc.hyp': {'stations': ['PLMK', 'PLMN', 'PLBR', 'PL07', 'PLRR', 'PLWB', 'PL03', 'PLTP'], 'Qs': array([ inf,  inf,  inf,  inf,  inf,  inf,  inf,  inf]), 'Rs': array([ inf,  inf,  inf,  inf,  inf,  inf,  inf,  inf])}, 'data/NLLoc_data/loc.Tom_RunNLLoc000.20110617.083331.grid0.loc.hyp': {'stations': ['PL07', 'PLWB', 'PL03'], 'Qs': array([ inf,  inf,  inf]), 'Rs': array([ inf,  inf,  inf])}, 'data/NLLoc_data/loc.Tom_RunNLLoc000.20110617.085516.grid0.loc.hyp': {'stations': ['PL07', 'PLWB', 'PLBR', 'PLCO', 'PLMN', 'PLAN', 'PL03', 'PLTP'], 'Qs': array([ inf,  inf,  inf,  inf,  inf,  inf,  inf,  inf]), 'Rs': array([ inf,  inf,  inf,  inf,  inf,  inf,  inf,  inf])}, 'data/NLLoc_data/loc.Tom_RunNLLoc000.20110617.111300.grid0.loc.hyp': {'stations': ['PL07', 'PLWB', 'PLBR', 'PL03', 'PLAN', 'PLTP'], 'Qs': array([ inf,  inf,  inf,  inf,  inf,  inf]), 'Rs': array([ inf,  inf,  inf,  inf,  inf,  inf])}, 'data/NLLoc_data/loc.Tom_RunNLLoc000.20110618.064646.grid0.loc.hyp': {'stations': ['PLSM', 'PLJR', 'PLDK', 'PLMK', 'PLBR', 'PLLA', 'PLLL', 'PLSE', 'PLWB', 'PLAN', 'PL03', 'PLSQ', 'PLCL'], 'Qs': array([ inf,  inf,  inf,  inf,  inf,  inf,  inf,  inf,  inf,  inf,  inf,\n",
      "        inf,  inf]), 'Rs': array([ inf,  inf,  inf,  inf,  inf,  inf,  inf,  inf,  inf,  inf,  inf,\n",
      "        inf,  inf])}, 'data/NLLoc_data/loc.Tom_RunNLLoc000.20110618.122821.grid0.loc.hyp': {'stations': ['PLQU', 'PLJR', 'PLLA', 'PLSM', 'PLCO', 'PLBR', 'PLSE', 'PLMK', 'PLDK', 'PL07', 'PLAR', 'PLWB', 'PLTP', 'PLSQ', 'PLAN', 'PLCL', 'PL03', 'PLSP', 'PLLC'], 'Qs': array([ inf,  inf,  inf,  inf,  inf,  inf,  inf,  inf,  inf,  inf,  inf,\n",
      "        inf,  inf,  inf,  inf,  inf,  inf,  inf,  inf]), 'Rs': array([ inf,  inf,  inf,  inf,  inf,  inf,  inf,  inf,  inf,  inf,  inf,\n",
      "        inf,  inf,  inf,  inf,  inf,  inf,  inf,  inf])}, 'data/NLLoc_data/loc.Tom_RunNLLoc000.20110620.040551.grid0.loc.hyp': {'stations': ['PLJR', 'PLQU', 'PLMN', 'PLCO', 'PLMK', 'PLSE', 'PLDK', 'PL07', 'PLRR', 'PLWB', 'PLAN', 'PLTP', 'PLLC'], 'Qs': array([ inf,  inf,  inf,  inf,  inf,  inf,  inf,  inf,  inf,  inf,  inf,\n",
      "        inf,  inf]), 'Rs': array([ inf,  inf,  inf,  inf,  inf,  inf,  inf,  inf,  inf,  inf,  inf,\n",
      "        inf,  inf])}, 'data/NLLoc_data/loc.Tom_RunNLLoc000.20110621.045315.grid0.loc.hyp': {'stations': ['PLJR', 'PLLA', 'PLCM', 'PLBR', 'PLLL', 'PL07', 'PLCL', 'PL03', 'PLLC'], 'Qs': array([ inf,  inf,  inf,  inf,  inf,  inf,  inf,  inf,  inf]), 'Rs': array([ inf,  inf,  inf,  inf,  inf,  inf,  inf,  inf,  inf])}, 'data/NLLoc_data/loc.Tom_RunNLLoc000.20110621.100903.grid0.loc.hyp': {'stations': ['PLJR', 'PLQU', 'PLSM', 'PLLA', 'PLCM', 'PLBR', 'PLLL', 'PL07', 'PLCL', 'PL03'], 'Qs': array([ inf,  inf,  inf,  inf,  inf,  inf,  inf,  inf,  inf,  inf]), 'Rs': array([ inf,  inf,  inf,  inf,  inf,  inf,  inf,  inf,  inf,  inf])}, 'data/NLLoc_data/loc.Tom_RunNLLoc000.20110621.115345.grid0.loc.hyp': {'stations': ['PLJR', 'PLSM', 'PLCM', 'PLBR', 'PLLL', 'PL07', 'PLWB', 'PLCL', 'PLLC', 'PL03'], 'Qs': array([ inf,  inf,  inf,  inf,  inf,  inf,  inf,  inf,  inf,  inf]), 'Rs': array([ inf,  inf,  inf,  inf,  inf,  inf,  inf,  inf,  inf,  inf])}, 'data/NLLoc_data/loc.Tom_RunNLLoc000.20110622.023326.grid0.loc.hyp': {'stations': ['PLBR', 'PLSS', 'PLCM', 'PLLL', 'PLSE', 'PLMK', 'PL07', 'PLSM', 'PLCO', 'PLAR', 'PLJR', 'PLWB', 'PLAN'], 'Qs': array([ inf,  inf,  inf,  inf,  inf,  inf,  inf,  inf,  inf,  inf,  inf,\n",
      "        inf,  inf]), 'Rs': array([ inf,  inf,  inf,  inf,  inf,  inf,  inf,  inf,  inf,  inf,  inf,\n",
      "        inf,  inf])}, 'data/NLLoc_data/loc.Tom_RunNLLoc000.20110622.024452.grid0.loc.hyp': {'stations': ['PLJR', 'PLSM', 'PLCM', 'PLCO', 'PL07', 'PLRR', 'PLSQ', 'PLAN', 'PL03', 'PLCL'], 'Qs': array([ inf,  inf,  inf,  inf,  inf,  inf,  inf,  inf,  inf,  inf]), 'Rs': array([ inf,  inf,  inf,  inf,  inf,  inf,  inf,  inf,  inf,  inf])}, 'data/NLLoc_data/loc.Tom_RunNLLoc000.20110622.043650.grid0.loc.hyp': {'stations': ['PLJR', 'PLQU', 'PLSM', 'PLCM', 'PLCO', 'PLBR', 'PLSE', 'PLLL', 'PL07', 'PLRR', 'PLAR', 'PLWB', 'PLCL', 'PLAN', 'PL03'], 'Qs': array([ inf,  inf,  inf,  inf,  inf,  inf,  inf,  inf,  inf,  inf,  inf,\n",
      "        inf,  inf,  inf,  inf]), 'Rs': array([ inf,  inf,  inf,  inf,  inf,  inf,  inf,  inf,  inf,  inf,  inf,\n",
      "        inf,  inf,  inf,  inf])}, 'data/NLLoc_data/loc.Tom_RunNLLoc000.20110622.053400.grid0.loc.hyp': {'stations': ['PLJR', 'PLSM', 'PLCM', 'PLCO', 'PLSE', 'PLLL', 'PL07', 'PLRR', 'PLWB', 'PLSQ', 'PLCL', 'PLAN'], 'Qs': array([ inf,  inf,  inf,  inf,  inf,  inf,  inf,  inf,  inf,  inf,  inf,\n",
      "        inf]), 'Rs': array([ inf,  inf,  inf,  inf,  inf,  inf,  inf,  inf,  inf,  inf,  inf,\n",
      "        inf])}, 'data/NLLoc_data/loc.Tom_RunNLLoc000.20110622.074546.grid0.loc.hyp': {'stations': ['PLJR', 'PLSM', 'PLCM', 'PLCO', 'PLSE', 'PLLL', 'PL07', 'PLRR', 'PLWB', 'PLSQ', 'PLCL', 'PLAN'], 'Qs': array([ inf,  inf,  inf,  inf,  inf,  inf,  inf,  inf,  inf,  inf,  inf,\n",
      "        inf]), 'Rs': array([ inf,  inf,  inf,  inf,  inf,  inf,  inf,  inf,  inf,  inf,  inf,\n",
      "        inf])}, 'data/NLLoc_data/loc.Tom_RunNLLoc000.20110622.095604.grid0.loc.hyp': {'stations': ['PLCM', 'PLBR', 'PLMN', 'PLQU', 'PLJR', 'PLRR', 'PLWB', 'PLAN', 'PL03', 'PLCL'], 'Qs': array([ inf,  inf,  inf,  inf,  inf,  inf,  inf,  inf,  inf,  inf]), 'Rs': array([ inf,  inf,  inf,  inf,  inf,  inf,  inf,  inf,  inf,  inf])}, 'data/NLLoc_data/loc.Tom_RunNLLoc000.20110622.113119.grid0.loc.hyp': {'stations': ['PLSM', 'PLMN', 'PLSE', 'PLJR', 'PL07', 'PLAR', 'PL03', 'PLCL'], 'Qs': array([ inf,  inf,  inf,  inf,  inf,  inf,  inf,  inf]), 'Rs': array([ inf,  inf,  inf,  inf,  inf,  inf,  inf,  inf])}, 'data/NLLoc_data/loc.Tom_RunNLLoc000.20110622.115544.grid0.loc.hyp': {'stations': ['PLJR', 'PLSM', 'PLLA', 'PLCM', 'PLBR', 'PLCO', 'PLMN', 'PLSE', 'PL07', 'PLRR', 'PLWB', 'PLCL', 'PL03'], 'Qs': array([ inf,  inf,  inf,  inf,  inf,  inf,  inf,  inf,  inf,  inf,  inf,\n",
      "        inf,  inf]), 'Rs': array([ inf,  inf,  inf,  inf,  inf,  inf,  inf,  inf,  inf,  inf,  inf,\n",
      "        inf,  inf])}, 'data/NLLoc_data/loc.Tom_RunNLLoc000.20110622.124949.grid0.loc.hyp': {'stations': ['PLSS', 'PLMK', 'PLMN', 'PLLL', 'PLSE', 'PL07', 'PLCO', 'PLAR', 'PLRR', 'PLWB', 'PLCL', 'PL03'], 'Qs': array([ inf,  inf,  inf,  inf,  inf,  inf,  inf,  inf,  inf,  inf,  inf,\n",
      "        inf]), 'Rs': array([ inf,  inf,  inf,  inf,  inf,  inf,  inf,  inf,  inf,  inf,  inf,\n",
      "        inf])}, 'data/NLLoc_data/loc.Tom_RunNLLoc000.20110622.135855.grid0.loc.hyp': {'stations': ['PL07', 'PLLA', 'PLSM', 'PLRR', 'PLJR', 'PLCL', 'PLLC', 'PL03'], 'Qs': array([ inf,  inf,  inf,  inf,  inf,  inf,  inf,  inf]), 'Rs': array([ inf,  inf,  inf,  inf,  inf,  inf,  inf,  inf])}, 'data/NLLoc_data/loc.Tom_RunNLLoc000.20110622.222116.grid0.loc.hyp': {'stations': ['PLQU', 'PLLA', 'PLSM', 'PLBR', 'PLCM', 'PLCO', 'PLSS', 'PLSE', 'PLMN', 'PLMK', 'PLLL', 'PLDK', 'PLAR', 'PLRR', 'PLWB', 'PLTP', 'PLSQ', 'PLAN', 'PLCL', 'PLSP', 'PL03', 'PLLC'], 'Qs': array([ inf,  inf,  inf,  inf,  inf,  inf,  inf,  inf,  inf,  inf,  inf,\n",
      "        inf,  inf,  inf,  inf,  inf,  inf,  inf,  inf,  inf,  inf,  inf]), 'Rs': array([ inf,  inf,  inf,  inf,  inf,  inf,  inf,  inf,  inf,  inf,  inf,\n",
      "        inf,  inf,  inf,  inf,  inf,  inf,  inf,  inf,  inf,  inf,  inf])}, 'data/NLLoc_data/loc.Tom_RunNLLoc000.20110623.020701.grid0.loc.hyp': {'stations': ['PLCO', 'PLLA', 'PLSE', 'PLSM', 'PL07', 'PLAN', 'PLSQ'], 'Qs': array([ inf,  inf,  inf,  inf,  inf,  inf,  inf]), 'Rs': array([ inf,  inf,  inf,  inf,  inf,  inf,  inf])}, 'data/NLLoc_data/loc.Tom_RunNLLoc000.20110623.064308.grid0.loc.hyp': {'stations': ['PL07', 'PLRR', 'PLMK', 'PLDK', 'PLMN', 'PLBR', 'PLSE', 'PLSM', 'PLLA', 'PLCO', 'PLTP', 'PLAN', 'PLCL', 'PL03'], 'Qs': array([ inf,  inf,  inf,  inf,  inf,  inf,  inf,  inf,  inf,  inf,  inf,\n",
      "        inf,  inf,  inf]), 'Rs': array([ inf,  inf,  inf,  inf,  inf,  inf,  inf,  inf,  inf,  inf,  inf,\n",
      "        inf,  inf,  inf])}, 'data/NLLoc_data/loc.Tom_RunNLLoc000.20110624.021607.grid0.loc.hyp': {'stations': ['PLAR', 'PLSE', 'PLQU', 'PLSM', 'PLJR', 'PL03', 'PLTP', 'PLCL'], 'Qs': array([ inf,  inf,  inf,  inf,  inf,  inf,  inf,  inf]), 'Rs': array([ inf,  inf,  inf,  inf,  inf,  inf,  inf,  inf])}, 'data/NLLoc_data/loc.Tom_RunNLLoc000.20110624.053608.grid0.loc.hyp': {'stations': ['PLDK', 'PLJR', 'PLQU', 'PLWB', 'PLSE', 'PL03', 'PLTP', 'PLLC', 'PLSQ', 'PLCL'], 'Qs': array([ inf,  inf,  inf,  inf,  inf,  inf,  inf,  inf,  inf,  inf]), 'Rs': array([ inf,  inf,  inf,  inf,  inf,  inf,  inf,  inf,  inf,  inf])}, 'data/NLLoc_data/loc.Tom_RunNLLoc000.20110624.094017.grid0.loc.hyp': {'stations': ['PLCM', 'PLMN', 'PLLL', 'PLDK', 'PLSE', 'PLLA', 'PLAR', 'PLWB', 'PLJR', 'PL03', 'PLCL', 'PLTP', 'PLAN'], 'Qs': array([ inf,  inf,  inf,  inf,  inf,  inf,  inf,  inf,  inf,  inf,  inf,\n",
      "        inf,  inf]), 'Rs': array([ inf,  inf,  inf,  inf,  inf,  inf,  inf,  inf,  inf,  inf,  inf,\n",
      "        inf,  inf])}, 'data/NLLoc_data/loc.Tom_RunNLLoc000.20110624.095827.grid0.loc.hyp': {'stations': ['PLJR', 'PLSM', 'PLLA', 'PLCM', 'PLMN', 'PLLL', 'PLDK', 'PLAR', 'PLTP', 'PLSQ', 'PLAN', 'PLCL', 'PL03', 'PLLC'], 'Qs': array([ inf,  inf,  inf,  inf,  inf,  inf,  inf,  inf,  inf,  inf,  inf,\n",
      "        inf,  inf,  inf]), 'Rs': array([ inf,  inf,  inf,  inf,  inf,  inf,  inf,  inf,  inf,  inf,  inf,\n",
      "        inf,  inf,  inf])}, 'data/NLLoc_data/loc.Tom_RunNLLoc000.20110624.222309.grid0.loc.hyp': {'stations': ['PLSM', 'PLQU', 'PLJR', 'PLMN', 'PLBR', 'PLCO', 'PLLC', 'PLCL'], 'Qs': array([ inf,  inf,  inf,  inf,  inf,  inf,  inf,  inf]), 'Rs': array([ inf,  inf,  inf,  inf,  inf,  inf,  inf,  inf])}, 'all_stations': ['PLCM', 'PLSS', 'PLMN', 'PL07', 'PLDK', 'PLLA', 'PLRR', 'PLJR', 'PLAR', 'PLWB', 'PLCO', 'PLTP', 'PLCL', 'PL03', 'PLLL', 'PLSE', 'PLBR', 'PLMK', 'PLAN', 'PLLC', 'PLSQ', 'PLSP', 'PLSM', 'PLQU'], 'all_kappas': array([-0.00307435,  0.00079601, -0.00393269, -0.00729072, -0.00203956,\n",
      "       -0.00195715,  0.0109227 , -0.0006329 , -0.00860983,  0.0039351 ,\n",
      "        0.00342521,  0.00634048, -0.0015673 ,  0.00135352, -0.00259675,\n",
      "       -0.00119892,  0.        ,  0.00306219,  0.00240597, -0.00118197,\n",
      "       -0.04975276,  0.01112858,  0.00694399,  0.        ])}\n"
     ]
    },
    {
     "name": "stderr",
     "output_type": "stream",
     "text": [
      "/Users/eart0504/Documents/python/github_repositories/SeisSrcMoment/SeisSrcMoment/moment_linear_reg.py:385: RuntimeWarning: divide by zero encountered in true_divide\n",
      "  linear_moment_inv_outputs[event_keys[i]][\"Qs\"] = 1. / event_inv_outputs[start_idx:end_idx][0::2]\n",
      "/Users/eart0504/Documents/python/github_repositories/SeisSrcMoment/SeisSrcMoment/moment_linear_reg.py:387: RuntimeWarning: divide by zero encountered in true_divide\n",
      "  linear_moment_inv_outputs[event_keys[i]][\"Rs\"] = 1. / event_inv_outputs[start_idx:end_idx][1::2]\n"
     ]
    }
   ],
   "source": [
    "# Find seismic moment release:\n",
    "moment_linear_reg.calc_moment_via_linear_reg(mseed_filenames, NLLoc_event_hyp_filenames, density, Vp, inventory_fname=inventory_fname, window_before_after=window_before_after, filt_freqs=filt_freqs, stations_not_to_process=stations_not_to_process, MT_six_tensors=MT_six_tensors, verbosity_level=verbosity_level, invert_for_geom_spreading=invert_for_geom_spreading, freq_inv_intervals=freq_inv_intervals, inv_option=inv_option, plot_switch=plot_switch)\n",
    "# print(\"Seismic moment release (Nm):\", av_M_0)"
   ]
  },
  {
   "cell_type": "code",
   "execution_count": null,
   "metadata": {},
   "outputs": [],
   "source": [
    "# And find corresponding moment magnitude, M_w (Hanks and Kanamori 1979):\n",
    "M_w = (2./3.)*np.log10(av_M_0) - 6.0\n",
    "print(\"Local moment magnitude, M:\", M_w)"
   ]
  },
  {
   "cell_type": "markdown",
   "metadata": {},
   "source": [
    "Note that this magnitude is approximately the same as that found in Alvizuri and Tape (2016), where they found that $M_W = 2.80$."
   ]
  },
  {
   "cell_type": "markdown",
   "metadata": {},
   "source": [
    "### References:"
   ]
  },
  {
   "cell_type": "markdown",
   "metadata": {},
   "source": [
    "Alvizuri, C., & Tape, C. (2016). Full moment tensors for small events (Mw < 3) at Uturuncu volcano, Bolivia. Geophysical Journal International, 206(3), 1761–1783. https://doi.org/10.1093/gji/ggw247\n",
    "\n",
    "Stork, A. L., Verdon, J. P., & Kendall, J. M. (2014). The robustness of seismic moment and magnitudes estimated using spectral analysis. Geophysical Prospecting, 62(4), 862–878. https://doi.org/10.1111/1365-2478.12134"
   ]
  },
  {
   "cell_type": "code",
   "execution_count": null,
   "metadata": {},
   "outputs": [],
   "source": []
  },
  {
   "cell_type": "code",
   "execution_count": null,
   "metadata": {},
   "outputs": [],
   "source": []
  },
  {
   "cell_type": "code",
   "execution_count": null,
   "metadata": {},
   "outputs": [],
   "source": []
  }
 ],
 "metadata": {
  "kernelspec": {
   "display_name": "Python 3",
   "language": "python",
   "name": "python3"
  },
  "language_info": {
   "codemirror_mode": {
    "name": "ipython",
    "version": 3
   },
   "file_extension": ".py",
   "mimetype": "text/x-python",
   "name": "python",
   "nbconvert_exporter": "python",
   "pygments_lexer": "ipython3",
   "version": "3.7.6"
  }
 },
 "nbformat": 4,
 "nbformat_minor": 2
}
