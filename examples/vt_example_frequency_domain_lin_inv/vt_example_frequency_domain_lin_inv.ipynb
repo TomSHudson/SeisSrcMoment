{
 "cells": [
  {
   "cell_type": "markdown",
   "metadata": {},
   "source": [
    "# Example usage of SeisSrcMoment to calculate $M_W$ in the frequency domain, using a linearised $M_0$ method"
   ]
  },
  {
   "cell_type": "markdown",
   "metadata": {},
   "source": [
    "This example is for a volcano-tectonic earthquake at Uturuncu, Bolivia. The moment magnitude, $M_W$, is calculated in the frequency domain, i.e. the long period spectral level is calculated by fitting a Brune model, as detailed in Stork et al (2014). However, here we use a linearised Brune model to calculate a number of the parameters in the Brune model with enhanced numerical stability over the non-linear Brune fit method. This earthquake's moment tensor is analysed in Alvizuri and Tape (2016), with $M_W$ = 2.80 found by full waveform moment tensor inversion."
   ]
  },
  {
   "cell_type": "markdown",
   "metadata": {},
   "source": [
    "## 1. Specify parameters to use:"
   ]
  },
  {
   "cell_type": "code",
   "execution_count": 1,
   "metadata": {},
   "outputs": [],
   "source": [
    "import numpy as np\n",
    "%load_ext autoreload\n",
    "%autoreload 2\n",
    "from SeisSrcMoment import moment_linear_reg\n",
    "from NonLinLocPy import read_nonlinloc"
   ]
  },
  {
   "cell_type": "code",
   "execution_count": 95,
   "metadata": {},
   "outputs": [],
   "source": [
    "# Specify variables:\n",
    "inventory_fname = \"data/instrument_gain_data/IRISDMC-Plutons_dataless.dataless\"  # The inventory fname, pointing to the dataless file for the network (for full instrument frequency response removal)\n",
    "mseed_filename = \"data/mseed_data/20100516063454720000.m\" # Note: One can pass the script an obspy stream instead if one wishes.\n",
    "NLLoc_event_hyp_filename = \"data/NLLoc_data/loc.Tom_RunNLLoc000.20100516.063457.grid0.loc.hyp\"\n",
    "stations_not_to_process = []\n",
    "window_before_after = [0.1, 0.6] # The time before and after the phase pick to use for calculating the magnitude within\n",
    "filt_freqs = [0.5, 49.0] # Filter frequencies to apply (important if not removing long period spectral noise)\n",
    "MT_six_tensors = [] # If this is not specified, assumes average DC component in P (or S) from Stork et al (2014).\n",
    "density = 2750. #2000. # Density of medium, in kg/m3\n",
    "Vp = 5000. # P-wave velocity in m/s\n",
    "# Note that Q not required as the program calculates Q when fitting the source model.\n",
    "verbosity_level = 0 # Verbosity level (1 for moment only) (2 for major parameters) (3 for plotting of traces)\n",
    "plot_switch = True\n",
    "remove_noise_spectrum = False # If True, removes noise using spectrum taken from window before trace. Not thoroughly tested yet, but can get around by applying a high pass filter above anyway.\n",
    "invert_for_geom_spreading = False\n",
    "freq_inv_intervals = None #np.arange(0.5, 40, 4.0) #None # Frequency intervals to sample the displacement spectra for the inversion.\n"
   ]
  },
  {
   "cell_type": "code",
   "execution_count": 96,
   "metadata": {},
   "outputs": [],
   "source": [
    "# Read in stations to calculate for directly from nonlinloc hyp file:\n",
    "nonlinloc_event_hyp_data = read_nonlinloc.read_hyp_file(NLLoc_event_hyp_filename)\n",
    "stations_to_calculate_moment_for = list(nonlinloc_event_hyp_data.phase_data.keys())"
   ]
  },
  {
   "cell_type": "markdown",
   "metadata": {},
   "source": [
    "One also needs to set the inversion method option for the moment parameters to invert for. The options are as follows:\n",
    "\n",
    "![title](inversion_options_diagram.png)\n"
   ]
  },
  {
   "cell_type": "code",
   "execution_count": 97,
   "metadata": {},
   "outputs": [],
   "source": [
    "# Set inversion method option:\n",
    "inv_option = \"method-1\" # Options are: \"method-1\"; \"method-1=2\"; \"method-3\"; \"method-4\", as above."
   ]
  },
  {
   "cell_type": "markdown",
   "metadata": {},
   "source": [
    "## Run moment calculation:"
   ]
  },
  {
   "cell_type": "code",
   "execution_count": 98,
   "metadata": {
    "scrolled": false
   },
   "outputs": [
    {
     "name": "stderr",
     "output_type": "stream",
     "text": [
      "/Users/eart0504/opt/anaconda3/lib/python3.7/site-packages/obspy/io/xseed/fields.py:377: UserWarning: Date is required.\n",
      "  warnings.warn('Date is required.', UserWarning)\n"
     ]
    },
    {
     "name": "stdout",
     "output_type": "stream",
     "text": [
      "Station (PLLO) or channel (HHN) not in instrument inventory, therefore not correcting for this component and removing it.\n",
      "Station (PLLO) or channel (HHE) not in instrument inventory, therefore not correcting for this component and removing it.\n",
      "Station (PLLO) or channel (HHZ) not in instrument inventory, therefore not correcting for this component and removing it.\n",
      "Warning: Need to specify MT_six_tensor or MT_data_filename for accurate radiation pattern correction. \n",
      " Using average radiation pattern value instead.\n",
      "Warning: Need to specify MT_six_tensor or MT_data_filename for accurate radiation pattern correction. \n",
      " Using average radiation pattern value instead.\n",
      "Warning: Need to specify MT_six_tensor or MT_data_filename for accurate radiation pattern correction. \n",
      " Using average radiation pattern value instead.\n",
      "Warning: Need to specify MT_six_tensor or MT_data_filename for accurate radiation pattern correction. \n",
      " Using average radiation pattern value instead.\n",
      "Warning: Need to specify MT_six_tensor or MT_data_filename for accurate radiation pattern correction. \n",
      " Using average radiation pattern value instead.\n",
      "Warning: Need to specify MT_six_tensor or MT_data_filename for accurate radiation pattern correction. \n",
      " Using average radiation pattern value instead.\n"
     ]
    },
    {
     "name": "stderr",
     "output_type": "stream",
     "text": [
      "/Users/eart0504/Documents/python/github_repositories/SeisSrcMoment/SeisSrcMoment/moment_linear_reg.py:217: RuntimeWarning: divide by zero encountered in true_divide\n",
      "  Qs_curr_event = 1. / event_inv_outputs\n"
     ]
    }
   ],
   "source": [
    "# Find seismic moment release:\n",
    "moment_linear_reg.calc_moment_via_linear_reg([mseed_filename], [NLLoc_event_hyp_filename], stations_to_calculate_moment_for, density, Vp, inventory_fname=inventory_fname, window_before_after=window_before_after, filt_freqs=filt_freqs, stations_not_to_process=stations_not_to_process, MT_six_tensors=MT_six_tensors, verbosity_level=verbosity_level, invert_for_geom_spreading=invert_for_geom_spreading, freq_inv_intervals=freq_inv_intervals, inv_option=inv_option, plot_switch=plot_switch)\n",
    "# print(\"Seismic moment release (Nm):\", av_M_0)"
   ]
  },
  {
   "cell_type": "code",
   "execution_count": 82,
   "metadata": {},
   "outputs": [
    {
     "ename": "NameError",
     "evalue": "name 'av_M_0' is not defined",
     "output_type": "error",
     "traceback": [
      "\u001b[0;31m---------------------------------------------------------------------------\u001b[0m",
      "\u001b[0;31mNameError\u001b[0m                                 Traceback (most recent call last)",
      "\u001b[0;32m<ipython-input-82-604e2448740a>\u001b[0m in \u001b[0;36m<module>\u001b[0;34m\u001b[0m\n\u001b[1;32m      1\u001b[0m \u001b[0;31m# And find corresponding moment magnitude, M_w (Hanks and Kanamori 1979):\u001b[0m\u001b[0;34m\u001b[0m\u001b[0;34m\u001b[0m\u001b[0;34m\u001b[0m\u001b[0m\n\u001b[0;32m----> 2\u001b[0;31m \u001b[0mM_w\u001b[0m \u001b[0;34m=\u001b[0m \u001b[0;34m(\u001b[0m\u001b[0;36m2.\u001b[0m\u001b[0;34m/\u001b[0m\u001b[0;36m3.\u001b[0m\u001b[0;34m)\u001b[0m\u001b[0;34m*\u001b[0m\u001b[0mnp\u001b[0m\u001b[0;34m.\u001b[0m\u001b[0mlog10\u001b[0m\u001b[0;34m(\u001b[0m\u001b[0mav_M_0\u001b[0m\u001b[0;34m)\u001b[0m \u001b[0;34m-\u001b[0m \u001b[0;36m6.0\u001b[0m\u001b[0;34m\u001b[0m\u001b[0;34m\u001b[0m\u001b[0m\n\u001b[0m\u001b[1;32m      3\u001b[0m \u001b[0mprint\u001b[0m\u001b[0;34m(\u001b[0m\u001b[0;34m\"Local moment magnitude, M:\"\u001b[0m\u001b[0;34m,\u001b[0m \u001b[0mM_w\u001b[0m\u001b[0;34m)\u001b[0m\u001b[0;34m\u001b[0m\u001b[0;34m\u001b[0m\u001b[0m\n",
      "\u001b[0;31mNameError\u001b[0m: name 'av_M_0' is not defined"
     ]
    }
   ],
   "source": [
    "# And find corresponding moment magnitude, M_w (Hanks and Kanamori 1979):\n",
    "M_w = (2./3.)*np.log10(av_M_0) - 6.0\n",
    "print(\"Local moment magnitude, M:\", M_w)"
   ]
  },
  {
   "cell_type": "markdown",
   "metadata": {},
   "source": [
    "Note that this magnitude is approximately the same as that found in Alvizuri and Tape (2016), where they found that $M_W = 2.80$."
   ]
  },
  {
   "cell_type": "markdown",
   "metadata": {},
   "source": [
    "### References:"
   ]
  },
  {
   "cell_type": "markdown",
   "metadata": {},
   "source": [
    "Alvizuri, C., & Tape, C. (2016). Full moment tensors for small events (Mw < 3) at Uturuncu volcano, Bolivia. Geophysical Journal International, 206(3), 1761–1783. https://doi.org/10.1093/gji/ggw247\n",
    "\n",
    "Stork, A. L., Verdon, J. P., & Kendall, J. M. (2014). The robustness of seismic moment and magnitudes estimated using spectral analysis. Geophysical Prospecting, 62(4), 862–878. https://doi.org/10.1111/1365-2478.12134"
   ]
  },
  {
   "cell_type": "code",
   "execution_count": null,
   "metadata": {},
   "outputs": [],
   "source": []
  },
  {
   "cell_type": "code",
   "execution_count": null,
   "metadata": {},
   "outputs": [],
   "source": []
  },
  {
   "cell_type": "code",
   "execution_count": null,
   "metadata": {},
   "outputs": [],
   "source": []
  }
 ],
 "metadata": {
  "kernelspec": {
   "display_name": "Python 3",
   "language": "python",
   "name": "python3"
  },
  "language_info": {
   "codemirror_mode": {
    "name": "ipython",
    "version": 3
   },
   "file_extension": ".py",
   "mimetype": "text/x-python",
   "name": "python",
   "nbconvert_exporter": "python",
   "pygments_lexer": "ipython3",
   "version": "3.7.6"
  }
 },
 "nbformat": 4,
 "nbformat_minor": 2
}
