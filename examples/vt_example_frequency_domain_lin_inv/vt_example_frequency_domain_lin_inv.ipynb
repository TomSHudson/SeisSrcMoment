{
 "cells": [
  {
   "cell_type": "markdown",
   "metadata": {},
   "source": [
    "# Example usage of SeisSrcMoment to calculate $M_W$ in the frequency domain, using a linearised $M_0$ method"
   ]
  },
  {
   "cell_type": "markdown",
   "metadata": {},
   "source": [
    "This example is for a volcano-tectonic earthquake at Uturuncu, Bolivia. The moment magnitude, $M_W$, is calculated in the frequency domain, i.e. the long period spectral level is calculated by fitting a Brune model, as detailed in Stork et al (2014). However, here we use a linearised Brune model to calculate a number of the parameters in the Brune model with enhanced numerical stability over the non-linear Brune fit method. This earthquake's moment tensor is analysed in Alvizuri and Tape (2016), with $M_W$ = 2.80 found by full waveform moment tensor inversion."
   ]
  },
  {
   "cell_type": "markdown",
   "metadata": {},
   "source": [
    "## 1. Specify parameters to use:"
   ]
  },
  {
   "cell_type": "code",
   "execution_count": 1,
   "metadata": {},
   "outputs": [],
   "source": [
    "import numpy as np\n",
    "import os, sys \n",
    "%load_ext autoreload\n",
    "%autoreload 2\n",
    "from SeisSrcMoment import moment_linear_reg\n",
    "from NonLinLocPy import read_nonlinloc"
   ]
  },
  {
   "cell_type": "code",
   "execution_count": 2,
   "metadata": {},
   "outputs": [],
   "source": [
    "# Specify variables:\n",
    "inventory_fname = \"data/instrument_gain_data/IRISDMC-Plutons_dataless.dataless\"  # The inventory fname, pointing to the dataless file for the network (for full instrument frequency response removal)\n",
    "# mseed_filename = \"data/mseed_data/20100516063454720000.m\" # Note: One can pass the script an obspy stream instead if one wishes.\n",
    "# NLLoc_event_hyp_filename = \"data/NLLoc_data/loc.Tom_RunNLLoc000.20100516.063457.grid0.loc.hyp\"\n",
    "stations_not_to_process = []\n",
    "window_before_after = [0.1, 0.6] # The time before and after the phase pick to use for calculating the magnitude within\n",
    "filt_freqs = [0.5, 49.0] # Filter frequencies to apply (important if not removing long period spectral noise)\n",
    "MT_six_tensors = [] # If this is not specified, assumes average DC component in P (or S) from Stork et al (2014).\n",
    "density = 2750. #2000. # Density of medium, in kg/m3\n",
    "Vp = 5000. # P-wave velocity in m/s\n",
    "# Note that Q not required as the program calculates Q when fitting the source model.\n",
    "verbosity_level = 0 # Verbosity level (1 for moment only) (2 for major parameters) (3 for plotting of traces)\n",
    "plot_switch = True\n",
    "remove_noise_spectrum = False # If True, removes noise using spectrum taken from window before trace. Not thoroughly tested yet, but can get around by applying a high pass filter above anyway.\n",
    "invert_for_geom_spreading = False\n",
    "freq_inv_intervals = None #np.arange(0.5, 40, 4.0) #None # Frequency intervals to sample the displacement spectra for the inversion.\n"
   ]
  },
  {
   "cell_type": "code",
   "execution_count": null,
   "metadata": {},
   "outputs": [],
   "source": []
  },
  {
   "cell_type": "markdown",
   "metadata": {},
   "source": [
    "One also needs to set the inversion method option for the moment parameters to invert for. The options are as follows:\n",
    "\n",
    "![title](inversion_options_diagram.png)\n"
   ]
  },
  {
   "cell_type": "code",
   "execution_count": 3,
   "metadata": {},
   "outputs": [],
   "source": [
    "# Set inversion method option:\n",
    "inv_option = \"method-1\" # Options are: \"method-1\"; \"method-2\"; \"method-3\"; \"method-4\", as above."
   ]
  },
  {
   "cell_type": "code",
   "execution_count": 4,
   "metadata": {},
   "outputs": [],
   "source": [
    "# And simulate for multiple events (TESTING!!!):\n",
    "mseed_fnames_tmp = np.loadtxt(\"data/mseed_fnames_list.txt\", dtype=str)\n",
    "nlloc_fnames_tmp = np.loadtxt(\"data/nlloc_fnames_list.txt\", dtype=str)\n",
    "mseed_filenames = []\n",
    "NLLoc_event_hyp_filenames = []\n",
    "for i in range(len(mseed_fnames_tmp)):\n",
    "    mseed_filenames.append(os.path.join(\"data/mseed_data\", mseed_fnames_tmp[i]))\n",
    "    NLLoc_event_hyp_filenames.append(os.path.join(\"data/NLLoc_data\", nlloc_fnames_tmp[i]))\n",
    "\n",
    "mseed_filenames = mseed_filenames[0:10]\n",
    "NLLoc_event_hyp_filenames = NLLoc_event_hyp_filenames[0:10]\n"
   ]
  },
  {
   "cell_type": "markdown",
   "metadata": {},
   "source": [
    "## Run moment calculation:"
   ]
  },
  {
   "cell_type": "code",
   "execution_count": 5,
   "metadata": {
    "scrolled": false
   },
   "outputs": [
    {
     "name": "stderr",
     "output_type": "stream",
     "text": [
      "/Users/eart0504/opt/anaconda3/lib/python3.7/site-packages/obspy/io/xseed/fields.py:377: UserWarning: Date is required.\n",
      "  warnings.warn('Date is required.', UserWarning)\n"
     ]
    },
    {
     "name": "stdout",
     "output_type": "stream",
     "text": [
      "Skipping station as spectra of length less than usual.\n"
     ]
    },
    {
     "name": "stderr",
     "output_type": "stream",
     "text": [
      "/Users/eart0504/opt/anaconda3/lib/python3.7/site-packages/obspy/io/xseed/fields.py:377: UserWarning: Date is required.\n",
      "  warnings.warn('Date is required.', UserWarning)\n",
      "/Users/eart0504/opt/anaconda3/lib/python3.7/site-packages/obspy/io/xseed/fields.py:377: UserWarning: Date is required.\n",
      "  warnings.warn('Date is required.', UserWarning)\n",
      "/Users/eart0504/opt/anaconda3/lib/python3.7/site-packages/obspy/io/xseed/fields.py:377: UserWarning: Date is required.\n",
      "  warnings.warn('Date is required.', UserWarning)\n",
      "/Users/eart0504/opt/anaconda3/lib/python3.7/site-packages/obspy/io/xseed/fields.py:377: UserWarning: Date is required.\n",
      "  warnings.warn('Date is required.', UserWarning)\n",
      "/Users/eart0504/opt/anaconda3/lib/python3.7/site-packages/obspy/io/xseed/fields.py:377: UserWarning: Date is required.\n",
      "  warnings.warn('Date is required.', UserWarning)\n",
      "/Users/eart0504/opt/anaconda3/lib/python3.7/site-packages/obspy/io/xseed/fields.py:377: UserWarning: Date is required.\n",
      "  warnings.warn('Date is required.', UserWarning)\n",
      "/Users/eart0504/opt/anaconda3/lib/python3.7/site-packages/obspy/io/xseed/fields.py:377: UserWarning: Date is required.\n",
      "  warnings.warn('Date is required.', UserWarning)\n",
      "/Users/eart0504/opt/anaconda3/lib/python3.7/site-packages/obspy/io/xseed/fields.py:377: UserWarning: Date is required.\n",
      "  warnings.warn('Date is required.', UserWarning)\n",
      "/Users/eart0504/opt/anaconda3/lib/python3.7/site-packages/obspy/io/xseed/fields.py:377: UserWarning: Date is required.\n",
      "  warnings.warn('Date is required.', UserWarning)\n"
     ]
    }
   ],
   "source": [
    "# Find seismic moment release:\n",
    "event_obs_dicts, linear_moment_inv_outputs = moment_linear_reg.calc_moment_via_linear_reg(NLLoc_event_hyp_filenames, density, Vp, mseed_filenames=mseed_filenames, inventory_fname=inventory_fname, window_before_after=window_before_after, filt_freqs=filt_freqs, stations_not_to_process=stations_not_to_process, MT_six_tensors=MT_six_tensors, verbosity_level=verbosity_level, invert_for_geom_spreading=invert_for_geom_spreading, freq_inv_intervals=freq_inv_intervals, inv_option=inv_option, plot_switch=plot_switch)\n",
    "# print(\"Seismic moment release (Nm):\", av_M_0)"
   ]
  },
  {
   "cell_type": "code",
   "execution_count": 6,
   "metadata": {},
   "outputs": [
    {
     "name": "stdout",
     "output_type": "stream",
     "text": [
      "Moment magnitude, Mw: 1.64349668286 ( Q: 403.398015003 , t*: 0.0139227573034 , fc: 4.22112068915 )\n",
      "Moment magnitude, Mw: 1.81722636512 ( Q: 2114.08282202 , t*: 0.00716811813051 , fc: 3.3857840782 )\n",
      "Moment magnitude, Mw: 1.70306433902 ( Q: 541.411137414 , t*: 0.0219437967143 , fc: 5.24764346533 )\n",
      "Moment magnitude, Mw: 1.67258651943 ( Q: 1508.80164335 , t*: 0.00676540790153 , fc: 3.96669487377 )\n",
      "Moment magnitude, Mw: 1.87504580262 ( Q: 1015.58574676 , t*: 0.0122022062394 , fc: 3.8491930345 )\n",
      "Moment magnitude, Mw: 0.875233632658 ( Q: 609.345745153 , t*: 0.00795001859709 , fc: 14.1243171689 )\n",
      "Moment magnitude, Mw: 2.14226121416 ( Q: 3143.38722478 , t*: 0.0167009490096 , fc: 5.18238068988 )\n",
      "Moment magnitude, Mw: 1.53200722853 ( Q: 1925.88055958 , t*: 0.00777180110443 , fc: 5.26205894746 )\n",
      "Moment magnitude, Mw: 1.81760767072 ( Q: 8385.77676317 , t*: 0.00616655527416 , fc: 3.87921680225 )\n",
      "Moment magnitude, Mw: 1.85131441449 ( Q: 2486.86218767 , t*: 0.00683673126824 , fc: 3.93093145264 )\n"
     ]
    }
   ],
   "source": [
    "# Look over events, calculating magnitudes:\n",
    "for NLLoc_event_hyp_filename in NLLoc_event_hyp_filenames:\n",
    "    # And find corresponding moment magnitude, M_w (Hanks and Kanamori 1979):\n",
    "    event_obs_dict = event_obs_dicts[NLLoc_event_hyp_filename]\n",
    "    M_ws = []\n",
    "    Qs = []\n",
    "    t_stars = []\n",
    "    fcs = []\n",
    "    for station in list(event_obs_dict.keys()):\n",
    "        M_0 = event_obs_dict[station]['M_0']\n",
    "        if M_0 > 0: # filter any events that didn't solve for\n",
    "            M_ws.append((2./3.)*np.log10(M_0) - 6.0)\n",
    "            Qs.append(event_obs_dict[station]['Q'])\n",
    "            t_stars.append(event_obs_dict[station]['t_star'])\n",
    "            fcs.append(event_obs_dict[station]['f_c'])\n",
    "    if len(M_ws) > 0:\n",
    "        M_w = np.average(np.array(M_ws))\n",
    "        Q = np.average(np.array(Qs))\n",
    "        t_star = np.average(np.array(t_stars))\n",
    "        fc = np.average(np.array(fcs))\n",
    "        print(\"Moment magnitude, Mw:\", M_w, \"( Q:\", Q, \", t*:\", t_star, \", fc:\", fc, \")\")"
   ]
  },
  {
   "cell_type": "code",
   "execution_count": null,
   "metadata": {},
   "outputs": [],
   "source": []
  },
  {
   "cell_type": "code",
   "execution_count": null,
   "metadata": {},
   "outputs": [],
   "source": []
  }
 ],
 "metadata": {
  "kernelspec": {
   "display_name": "Python 3",
   "language": "python",
   "name": "python3"
  },
  "language_info": {
   "codemirror_mode": {
    "name": "ipython",
    "version": 3
   },
   "file_extension": ".py",
   "mimetype": "text/x-python",
   "name": "python",
   "nbconvert_exporter": "python",
   "pygments_lexer": "ipython3",
   "version": "3.7.6"
  }
 },
 "nbformat": 4,
 "nbformat_minor": 2
}
