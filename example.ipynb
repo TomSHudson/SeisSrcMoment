{
 "cells": [
  {
   "cell_type": "markdown",
   "metadata": {},
   "source": [
    "# Example usage for moment.py"
   ]
  },
  {
   "cell_type": "markdown",
   "metadata": {},
   "source": [
    "## 1. Specify parameters to use:"
   ]
  },
  {
   "cell_type": "code",
   "execution_count": 6,
   "metadata": {},
   "outputs": [],
   "source": [
    "import numpy as np\n",
    "import moment"
   ]
  },
  {
   "cell_type": "code",
   "execution_count": 12,
   "metadata": {},
   "outputs": [],
   "source": [
    "# Specify variables:\n",
    "stations_to_calculate_moment_for = [\"SKR01\", \"SKR02\", \"SKR03\", \"SKR04\", \"SKR05\", \"SKR06\", \"SKR07\"]\n",
    "stations_not_to_process = [\"SKG08\", \"SKG09\", \"SKG10\", \"SKG11\", \"SKG12\", \"SKG13\", \"GR01\", \"GR02\", \"GR03\",\"GR04\",\"BARD\"]\n",
    "mseed_filename = \"data/mseed_data/20140629184210331.m\"\n",
    "instruments_gain_filename = \"data/instrument_gain_data.txt\" # File with instrument name, instrument gains (Z,N,E) and digitaliser gains (Z,N,E)\n",
    "NLLoc_event_hyp_filename = \"data/NLLoc_data/loc.Tom__RunNLLoc000.20140629.184210.grid0.loc.hyp\"\n",
    "MT_six_tensor = np.array([1.,1.,1.,0.,0.,0.]) # Here we specify an explosive source. For a better approximation, use an actual source inversion result.\n",
    "density = 917. # Density of medium, in kg/m3\n",
    "Vp = 3630. # P-wave velocity in m/s\n",
    "Q = 150. # Quality factor for the medium\n",
    "verbosity_level = 0 # Verbosity level\n"
   ]
  },
  {
   "cell_type": "markdown",
   "metadata": {},
   "source": [
    "## Run moment calculation:"
   ]
  },
  {
   "cell_type": "code",
   "execution_count": 13,
   "metadata": {},
   "outputs": [
    {
     "name": "stdout",
     "output_type": "stream",
     "text": [
      "Seismic moment release (Nm): 4860919.872672323\n",
      "Local moment magnitude, M: -1.575521025179966\n"
     ]
    }
   ],
   "source": [
    "# Find seismic moment release:\n",
    "M_0 = moment.calc_moment(mseed_filename, instruments_gain_filename, NLLoc_event_hyp_filename, stations_to_calculate_moment_for, density, Vp, Q=Q, stations_not_to_process=stations_not_to_process, MT_six_tensor=MT_six_tensor, verbosity_level=verbosity_level)\n",
    "print(\"Seismic moment release (Nm):\", M_0)\n",
    "\n",
    "# And find corresponding moment magnitude, M:\n",
    "M = (np.log10(M_0) - 9.05)/1.5\n",
    "print(\"Local moment magnitude, M:\", M)"
   ]
  },
  {
   "cell_type": "code",
   "execution_count": null,
   "metadata": {},
   "outputs": [],
   "source": []
  }
 ],
 "metadata": {
  "kernelspec": {
   "display_name": "Python 3",
   "language": "python",
   "name": "python3"
  },
  "language_info": {
   "codemirror_mode": {
    "name": "ipython",
    "version": 3
   },
   "file_extension": ".py",
   "mimetype": "text/x-python",
   "name": "python",
   "nbconvert_exporter": "python",
   "pygments_lexer": "ipython3",
   "version": "3.7.4"
  }
 },
 "nbformat": 4,
 "nbformat_minor": 2
}
