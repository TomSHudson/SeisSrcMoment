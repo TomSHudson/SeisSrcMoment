{
 "cells": [
  {
   "cell_type": "markdown",
   "metadata": {},
   "source": [
    "# Example usage for moment.py"
   ]
  },
  {
   "cell_type": "markdown",
   "metadata": {},
   "source": [
    "## 1. Specify parameters to use:"
   ]
  },
  {
   "cell_type": "code",
   "execution_count": 1,
   "metadata": {},
   "outputs": [],
   "source": [
    "import numpy as np\n",
    "from SeisSrcMoment import moment"
   ]
  },
  {
   "cell_type": "code",
   "execution_count": 2,
   "metadata": {},
   "outputs": [],
   "source": [
    "# Specify variables:\n",
    "stations_to_calculate_moment_for = [\"SKR01\", \"SKR02\", \"SKR03\", \"SKR04\", \"SKR05\", \"SKR06\", \"SKR07\"]\n",
    "stations_not_to_process = [\"SKG08\", \"SKG09\", \"SKG10\", \"SKG11\", \"SKG12\", \"SKG13\", \"GR01\", \"GR02\", \"GR03\",\"GR04\",\"BARD\"]\n",
    "mseed_filename = \"data/mseed_data/20140629184210331.m\"\n",
    "inventory_fname = None\n",
    "instruments_gain_filename = \"data/instrument_gain_data.txt\" # File with instrument name, instrument gains (Z,N,E) and digitaliser gains (Z,N,E)\n",
    "NLLoc_event_hyp_filename = \"data/NLLoc_data/loc.Tom__RunNLLoc000.20140629.184210.grid0.loc.hyp\"\n",
    "window_before_after = [0.004, 0.196] # The time before and after the phase pick to use for calculating the magnitude within\n",
    "filt_freqs = []\n",
    "# MT_data_filename = \"data/MT_data/20140629184210363MT.mat\"\n",
    "MT_six_tensor = np.array([1.,1.,1.,0.,0.,0.])\n",
    "density = 917. # Density of medium, in kg/m3\n",
    "Vp = 3630. # P-wave velocity in m/s\n",
    "Q = 150. # Quality factor for the medium\n",
    "verbosity_level = 1 # Verbosity level (1 for moment only) (2 for major parameters) (3 for plotting of traces)\n"
   ]
  },
  {
   "cell_type": "markdown",
   "metadata": {},
   "source": [
    "## Run moment calculation:"
   ]
  },
  {
   "cell_type": "code",
   "execution_count": 3,
   "metadata": {},
   "outputs": [
    {
     "name": "stdout",
     "output_type": "stream",
     "text": [
      "Processing data for station: SKR01\n",
      "Overall seismic moment (Nm): 18213771.45898596\n",
      "Processing data for station: SKR02\n",
      "Overall seismic moment (Nm): 10188781.016174326\n",
      "Processing data for station: SKR03\n",
      "Overall seismic moment (Nm): 6236025.461794561\n",
      "Processing data for station: SKR04\n",
      "Overall seismic moment (Nm): 8573795.56545731\n",
      "Processing data for station: SKR05\n",
      "Overall seismic moment (Nm): 6351311.5163656175\n",
      "Processing data for station: SKR06\n",
      "Overall seismic moment (Nm): 3736092.863904548\n",
      "Processing data for station: SKR07\n",
      "Overall seismic moment (Nm): 7871438.4065007055\n",
      "Average seismic moment for event: 8738745.184169004 +/- 1626616.194775836\n",
      "Seismic moment release (Nm): 8738745.184169004\n",
      "Local moment magnitude, M: -1.3723672827986757\n"
     ]
    },
    {
     "name": "stderr",
     "output_type": "stream",
     "text": [
      "/Users/eart0504/opt/anaconda3/lib/python3.7/site-packages/obspy/signal/headers.py:93: FutureWarning: Passing (type, 1) or '1type' as a synonym of type is deprecated; in a future version of numpy, it will be understood as (type, (1,)) / '(1,)type'.\n",
      "  ], align=True)\n"
     ]
    }
   ],
   "source": [
    "# Find seismic moment release:\n",
    "M_0, M_0_err = moment.calc_moment(mseed_filename, NLLoc_event_hyp_filename, stations_to_calculate_moment_for, density, Vp, inventory_fname=inventory_fname, instruments_gain_filename=instruments_gain_filename, Q=Q, window_before_after=window_before_after, filt_freqs=filt_freqs, stations_not_to_process=stations_not_to_process, MT_six_tensor=MT_six_tensor, verbosity_level=verbosity_level)\n",
    "print(\"Seismic moment release (Nm):\", M_0)\n",
    "\n",
    "# And find corresponding moment magnitude, M_w (Hanks and Kanamori 1979):\n",
    "M_w = (2./3.)*np.log10(M_0) - 6.0\n",
    "print(\"Local moment magnitude, M:\", M_w)"
   ]
  }
 ],
 "metadata": {
  "kernelspec": {
   "display_name": "Python 3",
   "language": "python",
   "name": "python3"
  },
  "language_info": {
   "codemirror_mode": {
    "name": "ipython",
    "version": 3
   },
   "file_extension": ".py",
   "mimetype": "text/x-python",
   "name": "python",
   "nbconvert_exporter": "python",
   "pygments_lexer": "ipython3",
   "version": "3.7.6"
  }
 },
 "nbformat": 4,
 "nbformat_minor": 2
}
